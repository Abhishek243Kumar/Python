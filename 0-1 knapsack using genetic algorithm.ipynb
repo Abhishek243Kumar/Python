{
 "cells": [
  {
   "cell_type": "code",
   "execution_count": 1,
   "id": "e9e027d3",
   "metadata": {},
   "outputs": [
    {
     "name": "stdout",
     "output_type": "stream",
     "text": [
      "Enter the number of items: 3\n",
      "Enter weight and value for item 1 (weight value): 7 21\n",
      "Enter weight and value for item 2 (weight value): 6 18\n",
      "Enter weight and value for item 3 (weight value): 5 15\n",
      "Enter the maximum weight capacity of the knapsack: 25\n",
      "Best individual: [1, 1, 1]\n",
      "Best items: [(7, 21), (6, 18), (5, 15)]\n",
      "Total value: 54\n",
      "[(7, 21), (6, 18), (5, 15)]\n"
     ]
    }
   ],
   "source": [
    "import random\n",
    "\n",
    "# Function to create a random individual (0/1 encoding)\n",
    "def create_individual(num_items):\n",
    "    return [random.randint(0, 1) for _ in range(num_items)]\n",
    "\n",
    "# Function to evaluate fitness (total value of items in the knapsack)\n",
    "def knapsack_fitness(individual, items, max_weight):\n",
    "    total_weight = sum(individual[i] * items[i][0] for i in range(len(individual)))\n",
    "    total_value = sum(individual[i] * items[i][1] for i in range(len(individual)))\n",
    "    if total_weight > max_weight:\n",
    "        return 0  # Penalize solutions exceeding weight limit\n",
    "    return total_value\n",
    "\n",
    "# Get user input for the number of items, their weights, values, and max weight\n",
    "num_items = int(input(\"Enter the number of items: \"))\n",
    "items = []\n",
    "for i in range(num_items):\n",
    "    weight, value = map(int, input(f\"Enter weight and value for item {i + 1} (weight value): \").split())\n",
    "    items.append((weight, value))\n",
    "max_weight = int(input(\"Enter the maximum weight capacity of the knapsack: \"))\n",
    "\n",
    "# Genetic Algorithm parameters\n",
    "population_size = 100\n",
    "num_generations = 50\n",
    "mutation_rate = 0.05\n",
    "\n",
    "# Create initial population\n",
    "population = [create_individual(num_items) for _ in range(population_size)]\n",
    "\n",
    "# Evolution loop\n",
    "for gen in range(num_generations):\n",
    "    fitness_values = [knapsack_fitness(individual, items, max_weight) for individual in population]\n",
    "    offspring = []\n",
    "    for _ in range(population_size):\n",
    "        parent1, parent2 = random.choices(population, k=2, weights=fitness_values)\n",
    "        crossover_point = random.randint(1, num_items - 1)\n",
    "        child = parent1[:crossover_point] + parent2[crossover_point:]\n",
    "        for i in range(num_items):\n",
    "            if random.random() < mutation_rate:\n",
    "                child[i] = 1 - child[i]  # Flip the bit\n",
    "        offspring.append(child)\n",
    "    population = offspring\n",
    "\n",
    "# Get the best individual\n",
    "best_individual = max(population, key=lambda ind: knapsack_fitness(ind, items, max_weight))\n",
    "best_items = [items[i] for i in range(len(best_individual)) if best_individual[i] == 1]\n",
    "\n",
    "print(\"Best individual:\", best_individual)\n",
    "print(\"Best items:\", best_items)\n",
    "print(\"Total value:\", knapsack_fitness(best_individual, items, max_weight))\n"
   ]
  },
  {
   "cell_type": "code",
   "execution_count": null,
   "id": "8a3ecf46",
   "metadata": {},
   "outputs": [],
   "source": []
  }
 ],
 "metadata": {
  "kernelspec": {
   "display_name": "Python 3 (ipykernel)",
   "language": "python",
   "name": "python3"
  },
  "language_info": {
   "codemirror_mode": {
    "name": "ipython",
    "version": 3
   },
   "file_extension": ".py",
   "mimetype": "text/x-python",
   "name": "python",
   "nbconvert_exporter": "python",
   "pygments_lexer": "ipython3",
   "version": "3.9.7"
  }
 },
 "nbformat": 4,
 "nbformat_minor": 5
}
